{
 "cells": [
  {
   "cell_type": "code",
   "execution_count": 2,
   "id": "bd108557",
   "metadata": {},
   "outputs": [],
   "source": [
    "import requests\n",
    "from config import weather_api_key\n"
   ]
  },
  {
   "cell_type": "code",
   "execution_count": 3,
   "id": "bcb15ce9",
   "metadata": {},
   "outputs": [],
   "source": [
    "url = \"http://api.openweathermap.org/data/2.5/weather?\" \n",
    "city = \"London\""
   ]
  },
  {
   "cell_type": "code",
   "execution_count": 8,
   "id": "58280be6",
   "metadata": {},
   "outputs": [],
   "source": [
    "query_url = url + \"appid=\" + weather_api_key + \"&q=\" + city"
   ]
  },
  {
   "cell_type": "code",
   "execution_count": 9,
   "id": "2dc3c338",
   "metadata": {},
   "outputs": [],
   "source": [
    "weather_response = requests.get(query_url)\n",
    "weather_json = weather_response.json()"
   ]
  },
  {
   "cell_type": "code",
   "execution_count": 10,
   "id": "ad94a483",
   "metadata": {},
   "outputs": [
    {
     "data": {
      "text/plain": [
       "dict_keys(['coord', 'weather', 'base', 'main', 'visibility', 'wind', 'clouds', 'dt', 'sys', 'timezone', 'id', 'name', 'cod'])"
      ]
     },
     "execution_count": 10,
     "metadata": {},
     "output_type": "execute_result"
    }
   ],
   "source": [
    "weather_json.keys()"
   ]
  },
  {
   "cell_type": "code",
   "execution_count": 12,
   "id": "f9fe70ae",
   "metadata": {},
   "outputs": [
    {
     "data": {
      "text/plain": [
       "{'temp': 287.44,\n",
       " 'feels_like': 287.27,\n",
       " 'temp_min': 286.09,\n",
       " 'temp_max': 289.01,\n",
       " 'pressure': 1019,\n",
       " 'humidity': 90}"
      ]
     },
     "execution_count": 12,
     "metadata": {},
     "output_type": "execute_result"
    }
   ],
   "source": [
    "weather_json.get(\"main\")"
   ]
  },
  {
   "cell_type": "code",
   "execution_count": null,
   "id": "6f843f6f",
   "metadata": {},
   "outputs": [],
   "source": []
  }
 ],
 "metadata": {
  "kernelspec": {
   "display_name": "PythonData",
   "language": "python",
   "name": "pythondata"
  },
  "language_info": {
   "codemirror_mode": {
    "name": "ipython",
    "version": 3
   },
   "file_extension": ".py",
   "mimetype": "text/x-python",
   "name": "python",
   "nbconvert_exporter": "python",
   "pygments_lexer": "ipython3",
   "version": "3.7.10"
  }
 },
 "nbformat": 4,
 "nbformat_minor": 5
}
